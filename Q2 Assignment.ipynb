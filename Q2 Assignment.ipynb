{
 "cells": [
  {
   "cell_type": "code",
   "execution_count": 16,
   "metadata": {},
   "outputs": [
    {
     "ename": "AttributeError",
     "evalue": "'super' object has no attribute 'description'",
     "output_type": "error",
     "traceback": [
      "\u001b[1;31m---------------------------------------------------------------------------\u001b[0m",
      "\u001b[1;31mAttributeError\u001b[0m                            Traceback (most recent call last)",
      "Cell \u001b[1;32mIn[16], line 37\u001b[0m\n\u001b[0;32m     34\u001b[0m         \u001b[39mreturn\u001b[39;00m \u001b[39msuper\u001b[39m()\u001b[39m.\u001b[39mget_info()\n\u001b[0;32m     36\u001b[0m H \u001b[39m=\u001b[39m JackrusselTerrier(\u001b[39m\"\u001b[39m\u001b[39mMicky\u001b[39m\u001b[39m\"\u001b[39m,\u001b[39m3\u001b[39m,\u001b[39m\"\u001b[39m\u001b[39mWhite\u001b[39m\u001b[39m\"\u001b[39m)\n\u001b[1;32m---> 37\u001b[0m \u001b[39mprint\u001b[39m(H\u001b[39m.\u001b[39;49mdescription())\n\u001b[0;32m     38\u001b[0m \u001b[39mprint\u001b[39m(H\u001b[39m.\u001b[39mget_info())\n\u001b[0;32m     40\u001b[0m S \u001b[39m=\u001b[39m BullDog(\u001b[39m\"\u001b[39m\u001b[39mLeo\u001b[39m\u001b[39m\"\u001b[39m,\u001b[39m5\u001b[39m,\u001b[39m\"\u001b[39m\u001b[39mBlack\u001b[39m\u001b[39m\"\u001b[39m)\n",
      "Cell \u001b[1;32mIn[16], line 21\u001b[0m, in \u001b[0;36mJackrusselTerrier.description\u001b[1;34m(self)\u001b[0m\n\u001b[0;32m     20\u001b[0m \u001b[39mdef\u001b[39;00m \u001b[39mdescription\u001b[39m(\u001b[39mself\u001b[39m):\n\u001b[1;32m---> 21\u001b[0m     \u001b[39mreturn\u001b[39;00m \u001b[39msuper\u001b[39;49m()\u001b[39m.\u001b[39;49mdescription()\n",
      "\u001b[1;31mAttributeError\u001b[0m: 'super' object has no attribute 'description'"
     ]
    }
   ],
   "source": [
    "class Dog:\n",
    "\n",
    "    def __init__(self, name, age, coat_colour):\n",
    "        self.name = name\n",
    "        self.age = age\n",
    "        self.coat_colour = coat_colour\n",
    "\n",
    "def description(self):\n",
    "    print(\"Dog Name is :\",self.name)\n",
    "    print(\"Dog Age is :\",self.age,end=\"\")\n",
    "\n",
    "def get_info(self):\n",
    "    print(\"Dog Colour is :\",self.coat_colour)\n",
    "    return \"\"\n",
    "\n",
    "class JackrusselTerrier(Dog): \n",
    "    def __init__(self, name, age, coat_colour):  \n",
    "        super().__init__(name, age, coat_colour)\n",
    "    \n",
    "    def description(self):\n",
    "        return super().description()\n",
    "\n",
    "    def get_info(self):\n",
    "        return super().get_info()\n",
    "\n",
    "class BullDog(Dog):\n",
    "    def __init__(self, name, age, coat_colour):  \n",
    "        super().__init__(name, age, coat_colour)\n",
    "\n",
    "    def description(self):\n",
    "       return super().description()   \n",
    "\n",
    "    def get_info(self):\n",
    "        return super().get_info()\n",
    "\n",
    "H = JackrusselTerrier(\"Micky\",3,\"White\")\n",
    "print(H.description())\n",
    "print(H.get_info())\n",
    "\n",
    "S = BullDog(\"Leo\",5,\"Black\")\n",
    "print(S.description()) \n",
    "print(S.get_info())\n"
   ]
  }
 ],
 "metadata": {
  "kernelspec": {
   "display_name": "Python 3",
   "language": "python",
   "name": "python3"
  },
  "language_info": {
   "codemirror_mode": {
    "name": "ipython",
    "version": 3
   },
   "file_extension": ".py",
   "mimetype": "text/x-python",
   "name": "python",
   "nbconvert_exporter": "python",
   "pygments_lexer": "ipython3",
   "version": "3.11.1"
  },
  "orig_nbformat": 4,
  "vscode": {
   "interpreter": {
    "hash": "cfd6bd4f4113fdcafaf611b0ceaf74a3b5f8378550a60e11b112517102badd1d"
   }
  }
 },
 "nbformat": 4,
 "nbformat_minor": 2
}

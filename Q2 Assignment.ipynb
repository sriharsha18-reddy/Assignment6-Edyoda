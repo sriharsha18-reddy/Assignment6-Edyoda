{
 "cells": [
  {
   "cell_type": "code",
   "execution_count": 21,
   "metadata": {},
   "outputs": [
    {
     "name": "stdout",
     "output_type": "stream",
     "text": [
      "Dog Name is : Micky\n",
      "Dog Age is : 3\n",
      "Dog Colour is : White\n",
      "\n",
      "Dog Name is : Leo\n",
      "Dog Age is : 5\n",
      "Dog Colour is : Black\n",
      "\n"
     ]
    }
   ],
   "source": [
    "class Dog:\n",
    "\n",
    "    def __init__(self, name, age, coat_colour):\n",
    "        self.name = name\n",
    "        self.age = age\n",
    "        self.coat_colour = coat_colour\n",
    "\n",
    "    def description(self):\n",
    "       print(\"Dog Name is :\",self.name)\n",
    "       print(\"Dog Age is :\",self.age,end=\"\")\n",
    "       return \"\"\n",
    "\n",
    "    def get_info(self):\n",
    "       print(\"Dog Colour is :\",self.coat_colour)\n",
    "       return \"\"\n",
    "\n",
    "class JackrusselTerrier(Dog): \n",
    "    def __init__(self, name, age, coat_colour):  \n",
    "        super().__init__(name, age, coat_colour)\n",
    "    \n",
    "    def description(self):\n",
    "        return super().description()\n",
    "\n",
    "    def get_info(self):\n",
    "        return super().get_info()\n",
    "\n",
    "class BullDog(Dog):\n",
    "    def __init__(self, name, age, coat_colour):  \n",
    "        super().__init__(name, age, coat_colour)\n",
    "\n",
    "    def description(self):\n",
    "       return super().description()   \n",
    "\n",
    "    def get_info(self):\n",
    "        return super().get_info()\n",
    "\n",
    "H = JackrusselTerrier(\"Micky\",3,\"White\")\n",
    "print(H.description())\n",
    "print(H.get_info())\n",
    "\n",
    "S = BullDog(\"Leo\",5,\"Black\")\n",
    "print(S.description()) \n",
    "print(S.get_info())\n"
   ]
  }
 ],
 "metadata": {
  "kernelspec": {
   "display_name": "Python 3",
   "language": "python",
   "name": "python3"
  },
  "language_info": {
   "codemirror_mode": {
    "name": "ipython",
    "version": 3
   },
   "file_extension": ".py",
   "mimetype": "text/x-python",
   "name": "python",
   "nbconvert_exporter": "python",
   "pygments_lexer": "ipython3",
   "version": "3.11.1"
  },
  "orig_nbformat": 4,
  "vscode": {
   "interpreter": {
    "hash": "cfd6bd4f4113fdcafaf611b0ceaf74a3b5f8378550a60e11b112517102badd1d"
   }
  }
 },
 "nbformat": 4,
 "nbformat_minor": 2
}
